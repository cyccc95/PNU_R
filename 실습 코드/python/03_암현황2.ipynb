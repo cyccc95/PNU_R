{
 "cells": [
  {
   "cell_type": "code",
   "execution_count": 1,
   "metadata": {},
   "outputs": [],
   "source": [
    "# 필요한 패키지와 라이브러리를 가져옴\n",
    "import matplotlib as mpl\n",
    "import matplotlib.pyplot as plt\n",
    "import matplotlib.font_manager as fm\n",
    "mpl.rc('font',family='Malgun Gothic')   # 맑은 고딕으로 그래프한글설정\n",
    "\n",
    "# 그래프에서 마이너스 폰트 깨지는 문제에 대한 대처\n",
    "mpl.rcParams['axes.unicode_minus'] = False\n",
    "\n",
    "import seaborn as sns"
   ]
  },
  {
   "cell_type": "code",
   "execution_count": 3,
   "metadata": {},
   "outputs": [],
   "source": [
    "import pandas as pd"
   ]
  },
  {
   "cell_type": "code",
   "execution_count": 49,
   "metadata": {},
   "outputs": [
    {
     "data": {
      "text/html": [
       "<div>\n",
       "<style scoped>\n",
       "    .dataframe tbody tr th:only-of-type {\n",
       "        vertical-align: middle;\n",
       "    }\n",
       "\n",
       "    .dataframe tbody tr th {\n",
       "        vertical-align: top;\n",
       "    }\n",
       "\n",
       "    .dataframe thead th {\n",
       "        text-align: right;\n",
       "    }\n",
       "</style>\n",
       "<table border=\"1\" class=\"dataframe\">\n",
       "  <thead>\n",
       "    <tr style=\"text-align: right;\">\n",
       "      <th></th>\n",
       "      <th>24개 암종별</th>\n",
       "      <th>성별</th>\n",
       "      <th>연령별</th>\n",
       "      <th>2019</th>\n",
       "      <th>2019.1</th>\n",
       "    </tr>\n",
       "  </thead>\n",
       "  <tbody>\n",
       "    <tr>\n",
       "      <th>0</th>\n",
       "      <td>24개 암종별</td>\n",
       "      <td>성별</td>\n",
       "      <td>연령별</td>\n",
       "      <td>발생자수 (명)</td>\n",
       "      <td>조발생률 (명/10만명)</td>\n",
       "    </tr>\n",
       "    <tr>\n",
       "      <th>1</th>\n",
       "      <td>모든 암(C00-C96)</td>\n",
       "      <td>계</td>\n",
       "      <td>계</td>\n",
       "      <td>254718</td>\n",
       "      <td>496.2</td>\n",
       "    </tr>\n",
       "    <tr>\n",
       "      <th>2</th>\n",
       "      <td>모든 암(C00-C96)</td>\n",
       "      <td>계</td>\n",
       "      <td>0-4세</td>\n",
       "      <td>406</td>\n",
       "      <td>21.3</td>\n",
       "    </tr>\n",
       "    <tr>\n",
       "      <th>3</th>\n",
       "      <td>모든 암(C00-C96)</td>\n",
       "      <td>계</td>\n",
       "      <td>5-9세</td>\n",
       "      <td>220</td>\n",
       "      <td>9.5</td>\n",
       "    </tr>\n",
       "    <tr>\n",
       "      <th>4</th>\n",
       "      <td>모든 암(C00-C96)</td>\n",
       "      <td>계</td>\n",
       "      <td>10-14세</td>\n",
       "      <td>300</td>\n",
       "      <td>13.0</td>\n",
       "    </tr>\n",
       "  </tbody>\n",
       "</table>\n",
       "</div>"
      ],
      "text/plain": [
       "         24개 암종별  성별     연령별      2019         2019.1\n",
       "0        24개 암종별  성별     연령별  발생자수 (명)  조발생률 (명/10만명)\n",
       "1  모든 암(C00-C96)   계       계    254718          496.2\n",
       "2  모든 암(C00-C96)   계    0-4세       406           21.3\n",
       "3  모든 암(C00-C96)   계    5-9세       220            9.5\n",
       "4  모든 암(C00-C96)   계  10-14세       300           13.0"
      ]
     },
     "execution_count": 49,
     "metadata": {},
     "output_type": "execute_result"
    }
   ],
   "source": [
    "#데이터 불러오기(암발생자수)\n",
    "df = pd.read_csv(\"../data/03_암발생자수_.csv\", encoding='cp949')\n",
    "df.head()"
   ]
  },
  {
   "cell_type": "code",
   "execution_count": 50,
   "metadata": {},
   "outputs": [
    {
     "name": "stdout",
     "output_type": "stream",
     "text": [
      "<class 'pandas.core.frame.DataFrame'>\n",
      "RangeIndex: 1501 entries, 0 to 1500\n",
      "Data columns (total 5 columns):\n",
      " #   Column  Non-Null Count  Dtype \n",
      "---  ------  --------------  ----- \n",
      " 0   암종별     1501 non-null   object\n",
      " 1   성별      1501 non-null   object\n",
      " 2   연령별     1501 non-null   object\n",
      " 3   발생자수    1501 non-null   object\n",
      " 4   조발생률    1501 non-null   object\n",
      "dtypes: object(5)\n",
      "memory usage: 58.8+ KB\n"
     ]
    }
   ],
   "source": [
    "# 열명 변경\n",
    "# \"암종별\", \"성별\", \"연령별\", \"발생자수\", \"조발생률\"\n",
    "df.columns = [\"암종별\", \"성별\", \"연령별\", \"발생자수\", \"조발생률\"]\n",
    "\n",
    "# 열 데이터 타입 확인\n",
    "df.info()"
   ]
  },
  {
   "cell_type": "code",
   "execution_count": 9,
   "metadata": {},
   "outputs": [
    {
     "data": {
      "text/plain": [
       "RangeIndex(start=0, stop=1501, step=1)"
      ]
     },
     "execution_count": 9,
     "metadata": {},
     "output_type": "execute_result"
    }
   ],
   "source": [
    "df.index"
   ]
  },
  {
   "cell_type": "code",
   "execution_count": 39,
   "metadata": {},
   "outputs": [
    {
     "data": {
      "text/plain": [
       "Index(['암종별', '성별', '연령별', '발생자수', '조발생률'], dtype='object')"
      ]
     },
     "execution_count": 39,
     "metadata": {},
     "output_type": "execute_result"
    }
   ],
   "source": [
    "df.columns"
   ]
  },
  {
   "cell_type": "code",
   "execution_count": 11,
   "metadata": {},
   "outputs": [
    {
     "data": {
      "text/plain": [
       "'24개 암종별'"
      ]
     },
     "execution_count": 11,
     "metadata": {},
     "output_type": "execute_result"
    }
   ],
   "source": [
    "# 행, 열 조회\n",
    "df.loc[0, '암종별']"
   ]
  },
  {
   "cell_type": "code",
   "execution_count": 51,
   "metadata": {},
   "outputs": [
    {
     "data": {
      "text/html": [
       "<div>\n",
       "<style scoped>\n",
       "    .dataframe tbody tr th:only-of-type {\n",
       "        vertical-align: middle;\n",
       "    }\n",
       "\n",
       "    .dataframe tbody tr th {\n",
       "        vertical-align: top;\n",
       "    }\n",
       "\n",
       "    .dataframe thead th {\n",
       "        text-align: right;\n",
       "    }\n",
       "</style>\n",
       "<table border=\"1\" class=\"dataframe\">\n",
       "  <thead>\n",
       "    <tr style=\"text-align: right;\">\n",
       "      <th></th>\n",
       "      <th>암종별</th>\n",
       "      <th>성별</th>\n",
       "      <th>연령별</th>\n",
       "      <th>발생자수</th>\n",
       "      <th>조발생률</th>\n",
       "    </tr>\n",
       "  </thead>\n",
       "  <tbody>\n",
       "    <tr>\n",
       "      <th>1</th>\n",
       "      <td>모든 암(C00-C96)</td>\n",
       "      <td>계</td>\n",
       "      <td>계</td>\n",
       "      <td>254718</td>\n",
       "      <td>496.2</td>\n",
       "    </tr>\n",
       "    <tr>\n",
       "      <th>2</th>\n",
       "      <td>모든 암(C00-C96)</td>\n",
       "      <td>계</td>\n",
       "      <td>0-4세</td>\n",
       "      <td>406</td>\n",
       "      <td>21.3</td>\n",
       "    </tr>\n",
       "    <tr>\n",
       "      <th>3</th>\n",
       "      <td>모든 암(C00-C96)</td>\n",
       "      <td>계</td>\n",
       "      <td>5-9세</td>\n",
       "      <td>220</td>\n",
       "      <td>9.5</td>\n",
       "    </tr>\n",
       "    <tr>\n",
       "      <th>4</th>\n",
       "      <td>모든 암(C00-C96)</td>\n",
       "      <td>계</td>\n",
       "      <td>10-14세</td>\n",
       "      <td>300</td>\n",
       "      <td>13.0</td>\n",
       "    </tr>\n",
       "    <tr>\n",
       "      <th>5</th>\n",
       "      <td>모든 암(C00-C96)</td>\n",
       "      <td>계</td>\n",
       "      <td>15-19세</td>\n",
       "      <td>583</td>\n",
       "      <td>21.4</td>\n",
       "    </tr>\n",
       "    <tr>\n",
       "      <th>...</th>\n",
       "      <td>...</td>\n",
       "      <td>...</td>\n",
       "      <td>...</td>\n",
       "      <td>...</td>\n",
       "      <td>...</td>\n",
       "    </tr>\n",
       "    <tr>\n",
       "      <th>1496</th>\n",
       "      <td>기타 암(Re. C00-C96)</td>\n",
       "      <td>여자</td>\n",
       "      <td>70-74세</td>\n",
       "      <td>1096</td>\n",
       "      <td>107.6</td>\n",
       "    </tr>\n",
       "    <tr>\n",
       "      <th>1497</th>\n",
       "      <td>기타 암(Re. C00-C96)</td>\n",
       "      <td>여자</td>\n",
       "      <td>75-79세</td>\n",
       "      <td>1357</td>\n",
       "      <td>146.3</td>\n",
       "    </tr>\n",
       "    <tr>\n",
       "      <th>1498</th>\n",
       "      <td>기타 암(Re. C00-C96)</td>\n",
       "      <td>여자</td>\n",
       "      <td>80-84세</td>\n",
       "      <td>1420</td>\n",
       "      <td>212.1</td>\n",
       "    </tr>\n",
       "    <tr>\n",
       "      <th>1499</th>\n",
       "      <td>기타 암(Re. C00-C96)</td>\n",
       "      <td>여자</td>\n",
       "      <td>85세이상</td>\n",
       "      <td>1273</td>\n",
       "      <td>243.6</td>\n",
       "    </tr>\n",
       "    <tr>\n",
       "      <th>1500</th>\n",
       "      <td>기타 암(Re. C00-C96)</td>\n",
       "      <td>여자</td>\n",
       "      <td>연령미상</td>\n",
       "      <td>-</td>\n",
       "      <td>-</td>\n",
       "    </tr>\n",
       "  </tbody>\n",
       "</table>\n",
       "<p>1500 rows × 5 columns</p>\n",
       "</div>"
      ],
      "text/plain": [
       "                    암종별  성별     연령별    발생자수   조발생률\n",
       "1         모든 암(C00-C96)   계       계  254718  496.2\n",
       "2         모든 암(C00-C96)   계    0-4세     406   21.3\n",
       "3         모든 암(C00-C96)   계    5-9세     220    9.5\n",
       "4         모든 암(C00-C96)   계  10-14세     300   13.0\n",
       "5         모든 암(C00-C96)   계  15-19세     583   21.4\n",
       "...                 ...  ..     ...     ...    ...\n",
       "1496  기타 암(Re. C00-C96)  여자  70-74세    1096  107.6\n",
       "1497  기타 암(Re. C00-C96)  여자  75-79세    1357  146.3\n",
       "1498  기타 암(Re. C00-C96)  여자  80-84세    1420  212.1\n",
       "1499  기타 암(Re. C00-C96)  여자   85세이상    1273  243.6\n",
       "1500  기타 암(Re. C00-C96)  여자    연령미상       -      -\n",
       "\n",
       "[1500 rows x 5 columns]"
      ]
     },
     "execution_count": 51,
     "metadata": {},
     "output_type": "execute_result"
    }
   ],
   "source": [
    "df = df.loc[1:, :]\n",
    "df"
   ]
  },
  {
   "cell_type": "code",
   "execution_count": 15,
   "metadata": {},
   "outputs": [
    {
     "data": {
      "text/html": [
       "<div>\n",
       "<style scoped>\n",
       "    .dataframe tbody tr th:only-of-type {\n",
       "        vertical-align: middle;\n",
       "    }\n",
       "\n",
       "    .dataframe tbody tr th {\n",
       "        vertical-align: top;\n",
       "    }\n",
       "\n",
       "    .dataframe thead th {\n",
       "        text-align: right;\n",
       "    }\n",
       "</style>\n",
       "<table border=\"1\" class=\"dataframe\">\n",
       "  <thead>\n",
       "    <tr style=\"text-align: right;\">\n",
       "      <th></th>\n",
       "      <th>암종별</th>\n",
       "      <th>발생자수</th>\n",
       "    </tr>\n",
       "  </thead>\n",
       "  <tbody>\n",
       "    <tr>\n",
       "      <th>1</th>\n",
       "      <td>모든 암(C00-C96)</td>\n",
       "      <td>254718</td>\n",
       "    </tr>\n",
       "    <tr>\n",
       "      <th>3</th>\n",
       "      <td>모든 암(C00-C96)</td>\n",
       "      <td>220</td>\n",
       "    </tr>\n",
       "  </tbody>\n",
       "</table>\n",
       "</div>"
      ],
      "text/plain": [
       "             암종별    발생자수\n",
       "1  모든 암(C00-C96)  254718\n",
       "3  모든 암(C00-C96)     220"
      ]
     },
     "execution_count": 15,
     "metadata": {},
     "output_type": "execute_result"
    }
   ],
   "source": [
    "#특정 행, 열 자료 추출\n",
    "df.loc[[1,3],['암종별', '발생자수']]"
   ]
  },
  {
   "cell_type": "code",
   "execution_count": 12,
   "metadata": {},
   "outputs": [
    {
     "data": {
      "text/plain": [
       "'24개 암종별'"
      ]
     },
     "execution_count": 12,
     "metadata": {},
     "output_type": "execute_result"
    }
   ],
   "source": [
    "df.iloc[0, 0]"
   ]
  },
  {
   "cell_type": "code",
   "execution_count": 8,
   "metadata": {},
   "outputs": [
    {
     "data": {
      "text/plain": [
       "0                 24개 암종별\n",
       "1           모든 암(C00-C96)\n",
       "2           모든 암(C00-C96)\n",
       "3           모든 암(C00-C96)\n",
       "4           모든 암(C00-C96)\n",
       "              ...        \n",
       "1496    기타 암(Re. C00-C96)\n",
       "1497    기타 암(Re. C00-C96)\n",
       "1498    기타 암(Re. C00-C96)\n",
       "1499    기타 암(Re. C00-C96)\n",
       "1500    기타 암(Re. C00-C96)\n",
       "Name: 암종별, Length: 1501, dtype: object"
      ]
     },
     "execution_count": 8,
     "metadata": {},
     "output_type": "execute_result"
    }
   ],
   "source": [
    "# 특정 변수 조회\n",
    "df['암종별']"
   ]
  },
  {
   "cell_type": "code",
   "execution_count": 16,
   "metadata": {},
   "outputs": [],
   "source": [
    "import numpy as np"
   ]
  },
  {
   "cell_type": "code",
   "execution_count": 17,
   "metadata": {},
   "outputs": [],
   "source": [
    "df['발생자수'] = np.where(df['발생자수'] == '-', 0, df['발생자수'] )\n",
    "df['조발생률'] = np.where(df['조발생률'] == '-', 0, df['조발생률'] )"
   ]
  },
  {
   "cell_type": "code",
   "execution_count": 18,
   "metadata": {},
   "outputs": [
    {
     "name": "stdout",
     "output_type": "stream",
     "text": [
      "<class 'pandas.core.frame.DataFrame'>\n",
      "RangeIndex: 1500 entries, 1 to 1500\n",
      "Data columns (total 5 columns):\n",
      " #   Column  Non-Null Count  Dtype \n",
      "---  ------  --------------  ----- \n",
      " 0   암종별     1500 non-null   object\n",
      " 1   성별      1500 non-null   object\n",
      " 2   연령별     1500 non-null   object\n",
      " 3   발생자수    1500 non-null   object\n",
      " 4   조발생률    1500 non-null   object\n",
      "dtypes: object(5)\n",
      "memory usage: 58.7+ KB\n"
     ]
    }
   ],
   "source": [
    "df.info()"
   ]
  },
  {
   "cell_type": "code",
   "execution_count": 19,
   "metadata": {},
   "outputs": [
    {
     "name": "stdout",
     "output_type": "stream",
     "text": [
      "<class 'pandas.core.frame.DataFrame'>\n",
      "RangeIndex: 1500 entries, 1 to 1500\n",
      "Data columns (total 5 columns):\n",
      " #   Column  Non-Null Count  Dtype \n",
      "---  ------  --------------  ----- \n",
      " 0   암종별     1500 non-null   object\n",
      " 1   성별      1500 non-null   object\n",
      " 2   연령별     1500 non-null   object\n",
      " 3   발생자수    1500 non-null   int32 \n",
      " 4   조발생률    1500 non-null   object\n",
      "dtypes: int32(1), object(4)\n",
      "memory usage: 52.9+ KB\n"
     ]
    }
   ],
   "source": [
    "#데이터타입변경1\n",
    "df['발생자수'] = df['발생자수'].astype('int')\n",
    "df.info()"
   ]
  },
  {
   "cell_type": "code",
   "execution_count": 20,
   "metadata": {},
   "outputs": [
    {
     "name": "stdout",
     "output_type": "stream",
     "text": [
      "<class 'pandas.core.frame.DataFrame'>\n",
      "RangeIndex: 1500 entries, 1 to 1500\n",
      "Data columns (total 5 columns):\n",
      " #   Column  Non-Null Count  Dtype  \n",
      "---  ------  --------------  -----  \n",
      " 0   암종별     1500 non-null   object \n",
      " 1   성별      1500 non-null   object \n",
      " 2   연령별     1500 non-null   object \n",
      " 3   발생자수    1500 non-null   int32  \n",
      " 4   조발생률    1500 non-null   float64\n",
      "dtypes: float64(1), int32(1), object(3)\n",
      "memory usage: 52.9+ KB\n"
     ]
    }
   ],
   "source": [
    "#데이터타입변경2\n",
    "df['조발생률'] = pd.to_numeric(df['조발생률'])\n",
    "df.info()"
   ]
  },
  {
   "cell_type": "code",
   "execution_count": null,
   "metadata": {},
   "outputs": [],
   "source": [
    "#암종류\n",
    "lt = list(df['암종별'].unique())\n",
    "lt = [s[-3:-1] for s in lt]\n",
    "lt"
   ]
  },
  {
   "cell_type": "code",
   "execution_count": null,
   "metadata": {},
   "outputs": [],
   "source": [
    "lt = [int(s) for s in lt]\n",
    "lt"
   ]
  },
  {
   "cell_type": "code",
   "execution_count": 52,
   "metadata": {},
   "outputs": [],
   "source": [
    "def funCol(col, df) :\n",
    "    temp = list(df[col])\n",
    "    temp = [float(s.replace('-', '0')) for s in temp]\n",
    "    df[col] = temp "
   ]
  },
  {
   "cell_type": "code",
   "execution_count": 53,
   "metadata": {},
   "outputs": [],
   "source": [
    "for c in ['발생자수', '조발생률'] :\n",
    "    funCol(c, df) "
   ]
  },
  {
   "cell_type": "code",
   "execution_count": 54,
   "metadata": {},
   "outputs": [
    {
     "name": "stdout",
     "output_type": "stream",
     "text": [
      "<class 'pandas.core.frame.DataFrame'>\n",
      "RangeIndex: 1500 entries, 1 to 1500\n",
      "Data columns (total 5 columns):\n",
      " #   Column  Non-Null Count  Dtype  \n",
      "---  ------  --------------  -----  \n",
      " 0   암종별     1500 non-null   object \n",
      " 1   성별      1500 non-null   object \n",
      " 2   연령별     1500 non-null   object \n",
      " 3   발생자수    1500 non-null   float64\n",
      " 4   조발생률    1500 non-null   float64\n",
      "dtypes: float64(2), object(3)\n",
      "memory usage: 58.7+ KB\n"
     ]
    }
   ],
   "source": [
    "df.info()"
   ]
  },
  {
   "cell_type": "code",
   "execution_count": 37,
   "metadata": {},
   "outputs": [
    {
     "name": "stdout",
     "output_type": "stream",
     "text": [
      "<class 'pandas.core.frame.DataFrame'>\n",
      "RangeIndex: 1500 entries, 1 to 1500\n",
      "Data columns (total 5 columns):\n",
      " #   Column  Non-Null Count  Dtype \n",
      "---  ------  --------------  ----- \n",
      " 0   암종별     1500 non-null   object\n",
      " 1   성별      1500 non-null   object\n",
      " 2   연령별     1500 non-null   object\n",
      " 3   발생자수    1500 non-null   int64 \n",
      " 4   조발생률    1500 non-null   object\n",
      "dtypes: int64(1), object(4)\n",
      "memory usage: 58.7+ KB\n"
     ]
    }
   ],
   "source": [
    "temp = list(df['발생자수'])\n",
    "temp = [ int(s.replace('-', '0')) for s in temp]\n",
    "df['발생자수'] = temp\n",
    "df.info()"
   ]
  },
  {
   "cell_type": "code",
   "execution_count": 40,
   "metadata": {},
   "outputs": [
    {
     "name": "stdout",
     "output_type": "stream",
     "text": [
      "<class 'pandas.core.frame.DataFrame'>\n",
      "RangeIndex: 1500 entries, 1 to 1500\n",
      "Data columns (total 5 columns):\n",
      " #   Column  Non-Null Count  Dtype  \n",
      "---  ------  --------------  -----  \n",
      " 0   암종별     1500 non-null   object \n",
      " 1   성별      1500 non-null   object \n",
      " 2   연령별     1500 non-null   object \n",
      " 3   발생자수    1500 non-null   int64  \n",
      " 4   조발생률    1500 non-null   float64\n",
      "dtypes: float64(1), int64(1), object(3)\n",
      "memory usage: 58.7+ KB\n"
     ]
    }
   ],
   "source": [
    "temp = list(df['조발생률'])\n",
    "temp = [ float(s.replace('-', '0')) for s in temp]\n",
    "df['조발생률'] = temp\n",
    "df.info()"
   ]
  },
  {
   "cell_type": "code",
   "execution_count": 55,
   "metadata": {},
   "outputs": [
    {
     "data": {
      "text/html": [
       "<div>\n",
       "<style scoped>\n",
       "    .dataframe tbody tr th:only-of-type {\n",
       "        vertical-align: middle;\n",
       "    }\n",
       "\n",
       "    .dataframe tbody tr th {\n",
       "        vertical-align: top;\n",
       "    }\n",
       "\n",
       "    .dataframe thead th {\n",
       "        text-align: right;\n",
       "    }\n",
       "</style>\n",
       "<table border=\"1\" class=\"dataframe\">\n",
       "  <thead>\n",
       "    <tr style=\"text-align: right;\">\n",
       "      <th></th>\n",
       "      <th>암종별</th>\n",
       "      <th>성별</th>\n",
       "      <th>연령별</th>\n",
       "      <th>발생자수</th>\n",
       "      <th>조발생률</th>\n",
       "    </tr>\n",
       "  </thead>\n",
       "  <tbody>\n",
       "    <tr>\n",
       "      <th>1</th>\n",
       "      <td>모든 암(C00-C96)</td>\n",
       "      <td>계</td>\n",
       "      <td>계</td>\n",
       "      <td>254718.0</td>\n",
       "      <td>496.2</td>\n",
       "    </tr>\n",
       "    <tr>\n",
       "      <th>2</th>\n",
       "      <td>모든 암(C00-C96)</td>\n",
       "      <td>계</td>\n",
       "      <td>0-4세</td>\n",
       "      <td>406.0</td>\n",
       "      <td>21.3</td>\n",
       "    </tr>\n",
       "    <tr>\n",
       "      <th>3</th>\n",
       "      <td>모든 암(C00-C96)</td>\n",
       "      <td>계</td>\n",
       "      <td>5-9세</td>\n",
       "      <td>220.0</td>\n",
       "      <td>9.5</td>\n",
       "    </tr>\n",
       "    <tr>\n",
       "      <th>4</th>\n",
       "      <td>모든 암(C00-C96)</td>\n",
       "      <td>계</td>\n",
       "      <td>10-14세</td>\n",
       "      <td>300.0</td>\n",
       "      <td>13.0</td>\n",
       "    </tr>\n",
       "    <tr>\n",
       "      <th>5</th>\n",
       "      <td>모든 암(C00-C96)</td>\n",
       "      <td>계</td>\n",
       "      <td>15-19세</td>\n",
       "      <td>583.0</td>\n",
       "      <td>21.4</td>\n",
       "    </tr>\n",
       "  </tbody>\n",
       "</table>\n",
       "</div>"
      ],
      "text/plain": [
       "             암종별 성별     연령별      발생자수   조발생률\n",
       "1  모든 암(C00-C96)  계       계  254718.0  496.2\n",
       "2  모든 암(C00-C96)  계    0-4세     406.0   21.3\n",
       "3  모든 암(C00-C96)  계    5-9세     220.0    9.5\n",
       "4  모든 암(C00-C96)  계  10-14세     300.0   13.0\n",
       "5  모든 암(C00-C96)  계  15-19세     583.0   21.4"
      ]
     },
     "execution_count": 55,
     "metadata": {},
     "output_type": "execute_result"
    }
   ],
   "source": [
    "df.head()"
   ]
  },
  {
   "cell_type": "code",
   "execution_count": 66,
   "metadata": {},
   "outputs": [
    {
     "data": {
      "text/html": [
       "<div>\n",
       "<style scoped>\n",
       "    .dataframe tbody tr th:only-of-type {\n",
       "        vertical-align: middle;\n",
       "    }\n",
       "\n",
       "    .dataframe tbody tr th {\n",
       "        vertical-align: top;\n",
       "    }\n",
       "\n",
       "    .dataframe thead th {\n",
       "        text-align: right;\n",
       "    }\n",
       "</style>\n",
       "<table border=\"1\" class=\"dataframe\">\n",
       "  <thead>\n",
       "    <tr style=\"text-align: right;\">\n",
       "      <th></th>\n",
       "      <th>연령별</th>\n",
       "      <th>발생자수</th>\n",
       "      <th>조발생률</th>\n",
       "    </tr>\n",
       "  </thead>\n",
       "  <tbody>\n",
       "    <tr>\n",
       "      <th>2</th>\n",
       "      <td>0-4세</td>\n",
       "      <td>406.0</td>\n",
       "      <td>21.3</td>\n",
       "    </tr>\n",
       "    <tr>\n",
       "      <th>3</th>\n",
       "      <td>5-9세</td>\n",
       "      <td>220.0</td>\n",
       "      <td>9.5</td>\n",
       "    </tr>\n",
       "    <tr>\n",
       "      <th>4</th>\n",
       "      <td>10-14세</td>\n",
       "      <td>300.0</td>\n",
       "      <td>13.0</td>\n",
       "    </tr>\n",
       "    <tr>\n",
       "      <th>5</th>\n",
       "      <td>15-19세</td>\n",
       "      <td>583.0</td>\n",
       "      <td>21.4</td>\n",
       "    </tr>\n",
       "    <tr>\n",
       "      <th>6</th>\n",
       "      <td>20-24세</td>\n",
       "      <td>1344.0</td>\n",
       "      <td>40.1</td>\n",
       "    </tr>\n",
       "    <tr>\n",
       "      <th>7</th>\n",
       "      <td>25-29세</td>\n",
       "      <td>2896.0</td>\n",
       "      <td>84.4</td>\n",
       "    </tr>\n",
       "    <tr>\n",
       "      <th>8</th>\n",
       "      <td>30-34세</td>\n",
       "      <td>4652.0</td>\n",
       "      <td>147.6</td>\n",
       "    </tr>\n",
       "    <tr>\n",
       "      <th>9</th>\n",
       "      <td>35-39세</td>\n",
       "      <td>8845.0</td>\n",
       "      <td>223.3</td>\n",
       "    </tr>\n",
       "    <tr>\n",
       "      <th>10</th>\n",
       "      <td>40-44세</td>\n",
       "      <td>12427.0</td>\n",
       "      <td>322.2</td>\n",
       "    </tr>\n",
       "    <tr>\n",
       "      <th>11</th>\n",
       "      <td>45-49세</td>\n",
       "      <td>17759.0</td>\n",
       "      <td>396.5</td>\n",
       "    </tr>\n",
       "    <tr>\n",
       "      <th>12</th>\n",
       "      <td>50-54세</td>\n",
       "      <td>22061.0</td>\n",
       "      <td>518.0</td>\n",
       "    </tr>\n",
       "    <tr>\n",
       "      <th>13</th>\n",
       "      <td>55-59세</td>\n",
       "      <td>28454.0</td>\n",
       "      <td>668.0</td>\n",
       "    </tr>\n",
       "    <tr>\n",
       "      <th>14</th>\n",
       "      <td>60-64세</td>\n",
       "      <td>33079.0</td>\n",
       "      <td>918.5</td>\n",
       "    </tr>\n",
       "    <tr>\n",
       "      <th>15</th>\n",
       "      <td>65-69세</td>\n",
       "      <td>29031.0</td>\n",
       "      <td>1187.9</td>\n",
       "    </tr>\n",
       "    <tr>\n",
       "      <th>16</th>\n",
       "      <td>70-74세</td>\n",
       "      <td>29796.0</td>\n",
       "      <td>1566.4</td>\n",
       "    </tr>\n",
       "    <tr>\n",
       "      <th>17</th>\n",
       "      <td>75-79세</td>\n",
       "      <td>29324.0</td>\n",
       "      <td>1829.0</td>\n",
       "    </tr>\n",
       "    <tr>\n",
       "      <th>18</th>\n",
       "      <td>80-84세</td>\n",
       "      <td>20664.0</td>\n",
       "      <td>1956.5</td>\n",
       "    </tr>\n",
       "    <tr>\n",
       "      <th>19</th>\n",
       "      <td>85세이상</td>\n",
       "      <td>12874.0</td>\n",
       "      <td>1805.3</td>\n",
       "    </tr>\n",
       "    <tr>\n",
       "      <th>20</th>\n",
       "      <td>연령미상</td>\n",
       "      <td>3.0</td>\n",
       "      <td>0.0</td>\n",
       "    </tr>\n",
       "  </tbody>\n",
       "</table>\n",
       "</div>"
      ],
      "text/plain": [
       "       연령별     발생자수    조발생률\n",
       "2     0-4세    406.0    21.3\n",
       "3     5-9세    220.0     9.5\n",
       "4   10-14세    300.0    13.0\n",
       "5   15-19세    583.0    21.4\n",
       "6   20-24세   1344.0    40.1\n",
       "7   25-29세   2896.0    84.4\n",
       "8   30-34세   4652.0   147.6\n",
       "9   35-39세   8845.0   223.3\n",
       "10  40-44세  12427.0   322.2\n",
       "11  45-49세  17759.0   396.5\n",
       "12  50-54세  22061.0   518.0\n",
       "13  55-59세  28454.0   668.0\n",
       "14  60-64세  33079.0   918.5\n",
       "15  65-69세  29031.0  1187.9\n",
       "16  70-74세  29796.0  1566.4\n",
       "17  75-79세  29324.0  1829.0\n",
       "18  80-84세  20664.0  1956.5\n",
       "19   85세이상  12874.0  1805.3\n",
       "20    연령미상      3.0     0.0"
      ]
     },
     "execution_count": 66,
     "metadata": {},
     "output_type": "execute_result"
    }
   ],
   "source": [
    "df1 = df[(df['암종별'] == '모든 암(C00-C96)') & (df['연령별'] != '계') & (df['성별'] == '계')]\n",
    "df1 = df1[['연령별','발생자수','조발생률']]\n",
    "df1"
   ]
  },
  {
   "cell_type": "code",
   "execution_count": 67,
   "metadata": {},
   "outputs": [
    {
     "data": {
      "text/html": [
       "<div>\n",
       "<style scoped>\n",
       "    .dataframe tbody tr th:only-of-type {\n",
       "        vertical-align: middle;\n",
       "    }\n",
       "\n",
       "    .dataframe tbody tr th {\n",
       "        vertical-align: top;\n",
       "    }\n",
       "\n",
       "    .dataframe thead th {\n",
       "        text-align: right;\n",
       "    }\n",
       "</style>\n",
       "<table border=\"1\" class=\"dataframe\">\n",
       "  <thead>\n",
       "    <tr style=\"text-align: right;\">\n",
       "      <th></th>\n",
       "      <th>발생자수</th>\n",
       "      <th>조발생률</th>\n",
       "    </tr>\n",
       "    <tr>\n",
       "      <th>연령별</th>\n",
       "      <th></th>\n",
       "      <th></th>\n",
       "    </tr>\n",
       "  </thead>\n",
       "  <tbody>\n",
       "    <tr>\n",
       "      <th>0-4세</th>\n",
       "      <td>406.0</td>\n",
       "      <td>21.3</td>\n",
       "    </tr>\n",
       "    <tr>\n",
       "      <th>5-9세</th>\n",
       "      <td>220.0</td>\n",
       "      <td>9.5</td>\n",
       "    </tr>\n",
       "    <tr>\n",
       "      <th>10-14세</th>\n",
       "      <td>300.0</td>\n",
       "      <td>13.0</td>\n",
       "    </tr>\n",
       "    <tr>\n",
       "      <th>15-19세</th>\n",
       "      <td>583.0</td>\n",
       "      <td>21.4</td>\n",
       "    </tr>\n",
       "    <tr>\n",
       "      <th>20-24세</th>\n",
       "      <td>1344.0</td>\n",
       "      <td>40.1</td>\n",
       "    </tr>\n",
       "    <tr>\n",
       "      <th>25-29세</th>\n",
       "      <td>2896.0</td>\n",
       "      <td>84.4</td>\n",
       "    </tr>\n",
       "    <tr>\n",
       "      <th>30-34세</th>\n",
       "      <td>4652.0</td>\n",
       "      <td>147.6</td>\n",
       "    </tr>\n",
       "    <tr>\n",
       "      <th>35-39세</th>\n",
       "      <td>8845.0</td>\n",
       "      <td>223.3</td>\n",
       "    </tr>\n",
       "    <tr>\n",
       "      <th>40-44세</th>\n",
       "      <td>12427.0</td>\n",
       "      <td>322.2</td>\n",
       "    </tr>\n",
       "    <tr>\n",
       "      <th>45-49세</th>\n",
       "      <td>17759.0</td>\n",
       "      <td>396.5</td>\n",
       "    </tr>\n",
       "    <tr>\n",
       "      <th>50-54세</th>\n",
       "      <td>22061.0</td>\n",
       "      <td>518.0</td>\n",
       "    </tr>\n",
       "    <tr>\n",
       "      <th>55-59세</th>\n",
       "      <td>28454.0</td>\n",
       "      <td>668.0</td>\n",
       "    </tr>\n",
       "    <tr>\n",
       "      <th>60-64세</th>\n",
       "      <td>33079.0</td>\n",
       "      <td>918.5</td>\n",
       "    </tr>\n",
       "    <tr>\n",
       "      <th>65-69세</th>\n",
       "      <td>29031.0</td>\n",
       "      <td>1187.9</td>\n",
       "    </tr>\n",
       "    <tr>\n",
       "      <th>70-74세</th>\n",
       "      <td>29796.0</td>\n",
       "      <td>1566.4</td>\n",
       "    </tr>\n",
       "    <tr>\n",
       "      <th>75-79세</th>\n",
       "      <td>29324.0</td>\n",
       "      <td>1829.0</td>\n",
       "    </tr>\n",
       "    <tr>\n",
       "      <th>80-84세</th>\n",
       "      <td>20664.0</td>\n",
       "      <td>1956.5</td>\n",
       "    </tr>\n",
       "    <tr>\n",
       "      <th>85세이상</th>\n",
       "      <td>12874.0</td>\n",
       "      <td>1805.3</td>\n",
       "    </tr>\n",
       "    <tr>\n",
       "      <th>연령미상</th>\n",
       "      <td>3.0</td>\n",
       "      <td>0.0</td>\n",
       "    </tr>\n",
       "  </tbody>\n",
       "</table>\n",
       "</div>"
      ],
      "text/plain": [
       "           발생자수    조발생률\n",
       "연령별                    \n",
       "0-4세      406.0    21.3\n",
       "5-9세      220.0     9.5\n",
       "10-14세    300.0    13.0\n",
       "15-19세    583.0    21.4\n",
       "20-24세   1344.0    40.1\n",
       "25-29세   2896.0    84.4\n",
       "30-34세   4652.0   147.6\n",
       "35-39세   8845.0   223.3\n",
       "40-44세  12427.0   322.2\n",
       "45-49세  17759.0   396.5\n",
       "50-54세  22061.0   518.0\n",
       "55-59세  28454.0   668.0\n",
       "60-64세  33079.0   918.5\n",
       "65-69세  29031.0  1187.9\n",
       "70-74세  29796.0  1566.4\n",
       "75-79세  29324.0  1829.0\n",
       "80-84세  20664.0  1956.5\n",
       "85세이상   12874.0  1805.3\n",
       "연령미상        3.0     0.0"
      ]
     },
     "execution_count": 67,
     "metadata": {},
     "output_type": "execute_result"
    }
   ],
   "source": [
    "df1 = df1.set_index('연령별')\n",
    "df1"
   ]
  },
  {
   "cell_type": "code",
   "execution_count": 68,
   "metadata": {},
   "outputs": [
    {
     "data": {
      "image/png": "[encoded data removed]",
      "text/plain": [
       "<Figure size 640x480 with 1 Axes>"
      ]
     },
     "metadata": {},
     "output_type": "display_data"
    }
   ],
   "source": [
    "df1.plot()\n",
    "plt.show()"
   ]
  },
  {
   "cell_type": "code",
   "execution_count": 69,
   "metadata": {},
   "outputs": [
    {
     "data": {
      "text/html": [
       "<div>\n",
       "<style scoped>\n",
       "    .dataframe tbody tr th:only-of-type {\n",
       "        vertical-align: middle;\n",
       "    }\n",
       "\n",
       "    .dataframe tbody tr th {\n",
       "        vertical-align: top;\n",
       "    }\n",
       "\n",
       "    .dataframe thead th {\n",
       "        text-align: right;\n",
       "    }\n",
       "</style>\n",
       "<table border=\"1\" class=\"dataframe\">\n",
       "  <thead>\n",
       "    <tr style=\"text-align: right;\">\n",
       "      <th></th>\n",
       "      <th>암종별</th>\n",
       "      <th>성별</th>\n",
       "      <th>연령별</th>\n",
       "      <th>발생자수</th>\n",
       "      <th>조발생률</th>\n",
       "    </tr>\n",
       "  </thead>\n",
       "  <tbody>\n",
       "    <tr>\n",
       "      <th>1</th>\n",
       "      <td>모든 암(C00-C96)</td>\n",
       "      <td>계</td>\n",
       "      <td>계</td>\n",
       "      <td>254718.0</td>\n",
       "      <td>496.2</td>\n",
       "    </tr>\n",
       "    <tr>\n",
       "      <th>2</th>\n",
       "      <td>모든 암(C00-C96)</td>\n",
       "      <td>계</td>\n",
       "      <td>0-4세</td>\n",
       "      <td>406.0</td>\n",
       "      <td>21.3</td>\n",
       "    </tr>\n",
       "    <tr>\n",
       "      <th>3</th>\n",
       "      <td>모든 암(C00-C96)</td>\n",
       "      <td>계</td>\n",
       "      <td>5-9세</td>\n",
       "      <td>220.0</td>\n",
       "      <td>9.5</td>\n",
       "    </tr>\n",
       "    <tr>\n",
       "      <th>4</th>\n",
       "      <td>모든 암(C00-C96)</td>\n",
       "      <td>계</td>\n",
       "      <td>10-14세</td>\n",
       "      <td>300.0</td>\n",
       "      <td>13.0</td>\n",
       "    </tr>\n",
       "    <tr>\n",
       "      <th>5</th>\n",
       "      <td>모든 암(C00-C96)</td>\n",
       "      <td>계</td>\n",
       "      <td>15-19세</td>\n",
       "      <td>583.0</td>\n",
       "      <td>21.4</td>\n",
       "    </tr>\n",
       "  </tbody>\n",
       "</table>\n",
       "</div>"
      ],
      "text/plain": [
       "             암종별 성별     연령별      발생자수   조발생률\n",
       "1  모든 암(C00-C96)  계       계  254718.0  496.2\n",
       "2  모든 암(C00-C96)  계    0-4세     406.0   21.3\n",
       "3  모든 암(C00-C96)  계    5-9세     220.0    9.5\n",
       "4  모든 암(C00-C96)  계  10-14세     300.0   13.0\n",
       "5  모든 암(C00-C96)  계  15-19세     583.0   21.4"
      ]
     },
     "execution_count": 69,
     "metadata": {},
     "output_type": "execute_result"
    }
   ],
   "source": [
    "df.head()"
   ]
  },
  {
   "cell_type": "code",
   "execution_count": 80,
   "metadata": {},
   "outputs": [
    {
     "data": {
      "text/html": [
       "<div>\n",
       "<style scoped>\n",
       "    .dataframe tbody tr th:only-of-type {\n",
       "        vertical-align: middle;\n",
       "    }\n",
       "\n",
       "    .dataframe tbody tr th {\n",
       "        vertical-align: top;\n",
       "    }\n",
       "\n",
       "    .dataframe thead th {\n",
       "        text-align: right;\n",
       "    }\n",
       "</style>\n",
       "<table border=\"1\" class=\"dataframe\">\n",
       "  <thead>\n",
       "    <tr style=\"text-align: right;\">\n",
       "      <th></th>\n",
       "      <th>암종별</th>\n",
       "      <th>성별</th>\n",
       "      <th>연령별</th>\n",
       "      <th>발생자수</th>\n",
       "      <th>조발생률</th>\n",
       "    </tr>\n",
       "  </thead>\n",
       "  <tbody>\n",
       "    <tr>\n",
       "      <th>82</th>\n",
       "      <td>입술, 구강 및 인두(C00-C14)</td>\n",
       "      <td>남자</td>\n",
       "      <td>0-4세</td>\n",
       "      <td>0.0</td>\n",
       "      <td>0.0</td>\n",
       "    </tr>\n",
       "    <tr>\n",
       "      <th>83</th>\n",
       "      <td>입술, 구강 및 인두(C00-C14)</td>\n",
       "      <td>남자</td>\n",
       "      <td>5-9세</td>\n",
       "      <td>1.0</td>\n",
       "      <td>0.1</td>\n",
       "    </tr>\n",
       "    <tr>\n",
       "      <th>84</th>\n",
       "      <td>입술, 구강 및 인두(C00-C14)</td>\n",
       "      <td>남자</td>\n",
       "      <td>10-14세</td>\n",
       "      <td>3.0</td>\n",
       "      <td>0.3</td>\n",
       "    </tr>\n",
       "    <tr>\n",
       "      <th>85</th>\n",
       "      <td>입술, 구강 및 인두(C00-C14)</td>\n",
       "      <td>남자</td>\n",
       "      <td>15-19세</td>\n",
       "      <td>7.0</td>\n",
       "      <td>0.5</td>\n",
       "    </tr>\n",
       "    <tr>\n",
       "      <th>86</th>\n",
       "      <td>입술, 구강 및 인두(C00-C14)</td>\n",
       "      <td>남자</td>\n",
       "      <td>20-24세</td>\n",
       "      <td>18.0</td>\n",
       "      <td>1.0</td>\n",
       "    </tr>\n",
       "    <tr>\n",
       "      <th>...</th>\n",
       "      <td>...</td>\n",
       "      <td>...</td>\n",
       "      <td>...</td>\n",
       "      <td>...</td>\n",
       "      <td>...</td>\n",
       "    </tr>\n",
       "    <tr>\n",
       "      <th>1496</th>\n",
       "      <td>기타 암(Re. C00-C96)</td>\n",
       "      <td>여자</td>\n",
       "      <td>70-74세</td>\n",
       "      <td>1096.0</td>\n",
       "      <td>107.6</td>\n",
       "    </tr>\n",
       "    <tr>\n",
       "      <th>1497</th>\n",
       "      <td>기타 암(Re. C00-C96)</td>\n",
       "      <td>여자</td>\n",
       "      <td>75-79세</td>\n",
       "      <td>1357.0</td>\n",
       "      <td>146.3</td>\n",
       "    </tr>\n",
       "    <tr>\n",
       "      <th>1498</th>\n",
       "      <td>기타 암(Re. C00-C96)</td>\n",
       "      <td>여자</td>\n",
       "      <td>80-84세</td>\n",
       "      <td>1420.0</td>\n",
       "      <td>212.1</td>\n",
       "    </tr>\n",
       "    <tr>\n",
       "      <th>1499</th>\n",
       "      <td>기타 암(Re. C00-C96)</td>\n",
       "      <td>여자</td>\n",
       "      <td>85세이상</td>\n",
       "      <td>1273.0</td>\n",
       "      <td>243.6</td>\n",
       "    </tr>\n",
       "    <tr>\n",
       "      <th>1500</th>\n",
       "      <td>기타 암(Re. C00-C96)</td>\n",
       "      <td>여자</td>\n",
       "      <td>연령미상</td>\n",
       "      <td>0.0</td>\n",
       "      <td>0.0</td>\n",
       "    </tr>\n",
       "  </tbody>\n",
       "</table>\n",
       "<p>912 rows × 5 columns</p>\n",
       "</div>"
      ],
      "text/plain": [
       "                       암종별  성별     연령별    발생자수   조발생률\n",
       "82    입술, 구강 및 인두(C00-C14)  남자    0-4세     0.0    0.0\n",
       "83    입술, 구강 및 인두(C00-C14)  남자    5-9세     1.0    0.1\n",
       "84    입술, 구강 및 인두(C00-C14)  남자  10-14세     3.0    0.3\n",
       "85    입술, 구강 및 인두(C00-C14)  남자  15-19세     7.0    0.5\n",
       "86    입술, 구강 및 인두(C00-C14)  남자  20-24세    18.0    1.0\n",
       "...                    ...  ..     ...     ...    ...\n",
       "1496     기타 암(Re. C00-C96)  여자  70-74세  1096.0  107.6\n",
       "1497     기타 암(Re. C00-C96)  여자  75-79세  1357.0  146.3\n",
       "1498     기타 암(Re. C00-C96)  여자  80-84세  1420.0  212.1\n",
       "1499     기타 암(Re. C00-C96)  여자   85세이상  1273.0  243.6\n",
       "1500     기타 암(Re. C00-C96)  여자    연령미상     0.0    0.0\n",
       "\n",
       "[912 rows x 5 columns]"
      ]
     },
     "execution_count": 80,
     "metadata": {},
     "output_type": "execute_result"
    }
   ],
   "source": [
    "df2 = df[(df['연령별'] != '계') & (df['암종별'] !='모든 암(C00-C96)') & (df['성별'] !='계')]\n",
    "df2"
   ]
  },
  {
   "cell_type": "code",
   "execution_count": 72,
   "metadata": {},
   "outputs": [
    {
     "data": {
      "text/html": [
       "<div>\n",
       "<style scoped>\n",
       "    .dataframe tbody tr th:only-of-type {\n",
       "        vertical-align: middle;\n",
       "    }\n",
       "\n",
       "    .dataframe tbody tr th {\n",
       "        vertical-align: top;\n",
       "    }\n",
       "\n",
       "    .dataframe thead th {\n",
       "        text-align: right;\n",
       "    }\n",
       "</style>\n",
       "<table border=\"1\" class=\"dataframe\">\n",
       "  <thead>\n",
       "    <tr style=\"text-align: right;\">\n",
       "      <th></th>\n",
       "      <th></th>\n",
       "      <th>발생자수</th>\n",
       "      <th>조발생률</th>\n",
       "    </tr>\n",
       "    <tr>\n",
       "      <th>암종별</th>\n",
       "      <th>성별</th>\n",
       "      <th></th>\n",
       "      <th></th>\n",
       "    </tr>\n",
       "  </thead>\n",
       "  <tbody>\n",
       "    <tr>\n",
       "      <th rowspan=\"3\" valign=\"top\">간(C22)</th>\n",
       "      <th>계</th>\n",
       "      <td>821.315789</td>\n",
       "      <td>38.810526</td>\n",
       "    </tr>\n",
       "    <tr>\n",
       "      <th>남자</th>\n",
       "      <td>607.421053</td>\n",
       "      <td>63.189474</td>\n",
       "    </tr>\n",
       "    <tr>\n",
       "      <th>여자</th>\n",
       "      <td>213.894737</td>\n",
       "      <td>20.931579</td>\n",
       "    </tr>\n",
       "    <tr>\n",
       "      <th rowspan=\"2\" valign=\"top\">갑상선(C73)</th>\n",
       "      <th>계</th>\n",
       "      <td>1614.526316</td>\n",
       "      <td>46.357895</td>\n",
       "    </tr>\n",
       "    <tr>\n",
       "      <th>남자</th>\n",
       "      <td>395.578947</td>\n",
       "      <td>23.210526</td>\n",
       "    </tr>\n",
       "    <tr>\n",
       "      <th>...</th>\n",
       "      <th>...</th>\n",
       "      <td>...</td>\n",
       "      <td>...</td>\n",
       "    </tr>\n",
       "    <tr>\n",
       "      <th rowspan=\"2\" valign=\"top\">호지킨 림프종(C81)</th>\n",
       "      <th>남자</th>\n",
       "      <td>9.526316</td>\n",
       "      <td>0.678947</td>\n",
       "    </tr>\n",
       "    <tr>\n",
       "      <th>여자</th>\n",
       "      <td>6.684211</td>\n",
       "      <td>0.515789</td>\n",
       "    </tr>\n",
       "    <tr>\n",
       "      <th rowspan=\"3\" valign=\"top\">후두(C32)</th>\n",
       "      <th>계</th>\n",
       "      <td>64.315789</td>\n",
       "      <td>3.115789</td>\n",
       "    </tr>\n",
       "    <tr>\n",
       "      <th>남자</th>\n",
       "      <td>60.736842</td>\n",
       "      <td>7.105263</td>\n",
       "    </tr>\n",
       "    <tr>\n",
       "      <th>여자</th>\n",
       "      <td>3.578947</td>\n",
       "      <td>0.347368</td>\n",
       "    </tr>\n",
       "  </tbody>\n",
       "</table>\n",
       "<p>75 rows × 2 columns</p>\n",
       "</div>"
      ],
      "text/plain": [
       "                        발생자수       조발생률\n",
       "암종별          성별                        \n",
       "간(C22)       계    821.315789  38.810526\n",
       "             남자   607.421053  63.189474\n",
       "             여자   213.894737  20.931579\n",
       "갑상선(C73)     계   1614.526316  46.357895\n",
       "             남자   395.578947  23.210526\n",
       "...                      ...        ...\n",
       "호지킨 림프종(C81) 남자     9.526316   0.678947\n",
       "             여자     6.684211   0.515789\n",
       "후두(C32)      계     64.315789   3.115789\n",
       "             남자    60.736842   7.105263\n",
       "             여자     3.578947   0.347368\n",
       "\n",
       "[75 rows x 2 columns]"
      ]
     },
     "execution_count": 72,
     "metadata": {},
     "output_type": "execute_result"
    }
   ],
   "source": [
    "df2.groupby(['암종별', '성별']).mean()[['발생자수', '조발생률']]"
   ]
  },
  {
   "cell_type": "code",
   "execution_count": 88,
   "metadata": {},
   "outputs": [
    {
     "data": {
      "image/png": "[encoded data removed]",
      "text/plain": [
       "<Figure size 1400x600 with 1 Axes>"
      ]
     },
     "metadata": {},
     "output_type": "display_data"
    }
   ],
   "source": [
    "plt.figure(figsize=(14, 6))\n",
    "sns.barplot(x='암종별', y='발생자수', hue='성별', data=df2)\n",
    "plt.title('암종별 남여 발생자수 현황', fontsize = 20)\n",
    "plt.xticks(rotation=90)\n",
    "plt.show()"
   ]
  }
 ],
 "metadata": {
  "kernelspec": {
   "display_name": "base",
   "language": "python",
   "name": "python3"
  },
  "language_info": {
   "codemirror_mode": {
    "name": "ipython",
    "version": 3
   },
   "file_extension": ".py",
   "mimetype": "text/x-python",
   "name": "python",
   "nbconvert_exporter": "python",
   "pygments_lexer": "ipython3",
   "version": "3.9.13 (main, Aug 25 2022, 23:51:50) [MSC v.1916 64 bit (AMD64)]"
  },
  "orig_nbformat": 4,
  "vscode": {
   "interpreter": {
    "hash": "78c50cf4ce376aa9c45519758f3120c50328cb5ea5c49b5a2a8ebb3e00f0003b"
   }
  }
 },
 "nbformat": 4,
 "nbformat_minor": 2
}

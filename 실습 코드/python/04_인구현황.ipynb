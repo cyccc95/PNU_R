{
 "cells": [
  {
   "cell_type": "code",
   "execution_count": 1,
   "metadata": {},
   "outputs": [],
   "source": [
    "# 필요한 패키지와 라이브러리를 가져옴\n",
    "import matplotlib as mpl\n",
    "import matplotlib.pyplot as plt\n",
    "import matplotlib.font_manager as fm\n",
    "mpl.rc('font',family='Malgun Gothic')   # 맑은 고딕으로 그래프한글설정\n",
    "\n",
    "# 그래프에서 마이너스 폰트 깨지는 문제에 대한 대처\n",
    "mpl.rcParams['axes.unicode_minus'] = False\n",
    "\n",
    "import seaborn as sns"
   ]
  },
  {
   "cell_type": "code",
   "execution_count": 2,
   "metadata": {},
   "outputs": [],
   "source": [
    "import pandas as pd"
   ]
  },
  {
   "cell_type": "code",
   "execution_count": 8,
   "metadata": {},
   "outputs": [
    {
     "data": {
      "text/html": [
       "<div>\n",
       "<style scoped>\n",
       "    .dataframe tbody tr th:only-of-type {\n",
       "        vertical-align: middle;\n",
       "    }\n",
       "\n",
       "    .dataframe tbody tr th {\n",
       "        vertical-align: top;\n",
       "    }\n",
       "\n",
       "    .dataframe thead th {\n",
       "        text-align: right;\n",
       "    }\n",
       "</style>\n",
       "<table border=\"1\" class=\"dataframe\">\n",
       "  <thead>\n",
       "    <tr style=\"text-align: right;\">\n",
       "      <th></th>\n",
       "      <th>행정구역별(1)</th>\n",
       "      <th>시점</th>\n",
       "      <th>출생아수(명)</th>\n",
       "      <th>사망자수(명)</th>\n",
       "      <th>혼인건수(건)</th>\n",
       "      <th>이혼건수(건)</th>\n",
       "    </tr>\n",
       "  </thead>\n",
       "  <tbody>\n",
       "    <tr>\n",
       "      <th>0</th>\n",
       "      <td>전국</td>\n",
       "      <td>1992</td>\n",
       "      <td>730678.0</td>\n",
       "      <td>236162.0</td>\n",
       "      <td>419774.0</td>\n",
       "      <td>53539.0</td>\n",
       "    </tr>\n",
       "    <tr>\n",
       "      <th>1</th>\n",
       "      <td>전국</td>\n",
       "      <td>1993</td>\n",
       "      <td>715826.0</td>\n",
       "      <td>234257.0</td>\n",
       "      <td>402593.0</td>\n",
       "      <td>59313.0</td>\n",
       "    </tr>\n",
       "    <tr>\n",
       "      <th>2</th>\n",
       "      <td>전국</td>\n",
       "      <td>1994</td>\n",
       "      <td>721185.0</td>\n",
       "      <td>242439.0</td>\n",
       "      <td>393121.0</td>\n",
       "      <td>65015.0</td>\n",
       "    </tr>\n",
       "    <tr>\n",
       "      <th>3</th>\n",
       "      <td>전국</td>\n",
       "      <td>1995</td>\n",
       "      <td>715020.0</td>\n",
       "      <td>242838.0</td>\n",
       "      <td>398484.0</td>\n",
       "      <td>68279.0</td>\n",
       "    </tr>\n",
       "    <tr>\n",
       "      <th>4</th>\n",
       "      <td>전국</td>\n",
       "      <td>1996</td>\n",
       "      <td>691226.0</td>\n",
       "      <td>241149.0</td>\n",
       "      <td>434911.0</td>\n",
       "      <td>79895.0</td>\n",
       "    </tr>\n",
       "  </tbody>\n",
       "</table>\n",
       "</div>"
      ],
      "text/plain": [
       "  행정구역별(1)    시점   출생아수(명)   사망자수(명)   혼인건수(건)  이혼건수(건)\n",
       "0       전국  1992  730678.0  236162.0  419774.0  53539.0\n",
       "1       전국  1993  715826.0  234257.0  402593.0  59313.0\n",
       "2       전국  1994  721185.0  242439.0  393121.0  65015.0\n",
       "3       전국  1995  715020.0  242838.0  398484.0  68279.0\n",
       "4       전국  1996  691226.0  241149.0  434911.0  79895.0"
      ]
     },
     "execution_count": 8,
     "metadata": {},
     "output_type": "execute_result"
    }
   ],
   "source": [
    "df = pd.read_csv('../data/04_인구동향.csv', encoding='cp949')\n",
    "df.head()"
   ]
  },
  {
   "cell_type": "code",
   "execution_count": 9,
   "metadata": {},
   "outputs": [
    {
     "data": {
      "text/html": [
       "<div>\n",
       "<style scoped>\n",
       "    .dataframe tbody tr th:only-of-type {\n",
       "        vertical-align: middle;\n",
       "    }\n",
       "\n",
       "    .dataframe tbody tr th {\n",
       "        vertical-align: top;\n",
       "    }\n",
       "\n",
       "    .dataframe thead th {\n",
       "        text-align: right;\n",
       "    }\n",
       "</style>\n",
       "<table border=\"1\" class=\"dataframe\">\n",
       "  <thead>\n",
       "    <tr style=\"text-align: right;\">\n",
       "      <th></th>\n",
       "      <th>행정구역</th>\n",
       "      <th>시점</th>\n",
       "      <th>출생아수</th>\n",
       "      <th>사망자수</th>\n",
       "      <th>혼인건수</th>\n",
       "      <th>이혼건수</th>\n",
       "    </tr>\n",
       "  </thead>\n",
       "  <tbody>\n",
       "    <tr>\n",
       "      <th>0</th>\n",
       "      <td>전국</td>\n",
       "      <td>1992</td>\n",
       "      <td>730678.0</td>\n",
       "      <td>236162.0</td>\n",
       "      <td>419774.0</td>\n",
       "      <td>53539.0</td>\n",
       "    </tr>\n",
       "    <tr>\n",
       "      <th>1</th>\n",
       "      <td>전국</td>\n",
       "      <td>1993</td>\n",
       "      <td>715826.0</td>\n",
       "      <td>234257.0</td>\n",
       "      <td>402593.0</td>\n",
       "      <td>59313.0</td>\n",
       "    </tr>\n",
       "    <tr>\n",
       "      <th>2</th>\n",
       "      <td>전국</td>\n",
       "      <td>1994</td>\n",
       "      <td>721185.0</td>\n",
       "      <td>242439.0</td>\n",
       "      <td>393121.0</td>\n",
       "      <td>65015.0</td>\n",
       "    </tr>\n",
       "    <tr>\n",
       "      <th>3</th>\n",
       "      <td>전국</td>\n",
       "      <td>1995</td>\n",
       "      <td>715020.0</td>\n",
       "      <td>242838.0</td>\n",
       "      <td>398484.0</td>\n",
       "      <td>68279.0</td>\n",
       "    </tr>\n",
       "    <tr>\n",
       "      <th>4</th>\n",
       "      <td>전국</td>\n",
       "      <td>1996</td>\n",
       "      <td>691226.0</td>\n",
       "      <td>241149.0</td>\n",
       "      <td>434911.0</td>\n",
       "      <td>79895.0</td>\n",
       "    </tr>\n",
       "  </tbody>\n",
       "</table>\n",
       "</div>"
      ],
      "text/plain": [
       "  행정구역    시점      출생아수      사망자수      혼인건수     이혼건수\n",
       "0   전국  1992  730678.0  236162.0  419774.0  53539.0\n",
       "1   전국  1993  715826.0  234257.0  402593.0  59313.0\n",
       "2   전국  1994  721185.0  242439.0  393121.0  65015.0\n",
       "3   전국  1995  715020.0  242838.0  398484.0  68279.0\n",
       "4   전국  1996  691226.0  241149.0  434911.0  79895.0"
      ]
     },
     "execution_count": 9,
     "metadata": {},
     "output_type": "execute_result"
    }
   ],
   "source": [
    "df.columns = ['행정구역', '시점', '출생아수','사망자수','혼인건수', '이혼건수']\n",
    "df.head()"
   ]
  },
  {
   "cell_type": "code",
   "execution_count": 11,
   "metadata": {},
   "outputs": [
    {
     "name": "stdout",
     "output_type": "stream",
     "text": [
      "<class 'pandas.core.frame.DataFrame'>\n",
      "RangeIndex: 540 entries, 0 to 539\n",
      "Data columns (total 6 columns):\n",
      " #   Column  Non-Null Count  Dtype  \n",
      "---  ------  --------------  -----  \n",
      " 0   행정구역    540 non-null    object \n",
      " 1   시점      540 non-null    int64  \n",
      " 2   출생아수    515 non-null    float64\n",
      " 3   사망자수    515 non-null    float64\n",
      " 4   혼인건수    515 non-null    float64\n",
      " 5   이혼건수    515 non-null    float64\n",
      "dtypes: float64(4), int64(1), object(1)\n",
      "memory usage: 25.4+ KB\n"
     ]
    }
   ],
   "source": [
    "df.info()"
   ]
  },
  {
   "cell_type": "code",
   "execution_count": 15,
   "metadata": {},
   "outputs": [],
   "source": [
    "df[['출생아수','사망자수','혼인건수','이혼건수']] = df[['출생아수','사망자수','혼인건수','이혼건수']].fillna(0)"
   ]
  },
  {
   "cell_type": "code",
   "execution_count": 16,
   "metadata": {},
   "outputs": [
    {
     "name": "stdout",
     "output_type": "stream",
     "text": [
      "<class 'pandas.core.frame.DataFrame'>\n",
      "RangeIndex: 540 entries, 0 to 539\n",
      "Data columns (total 6 columns):\n",
      " #   Column  Non-Null Count  Dtype  \n",
      "---  ------  --------------  -----  \n",
      " 0   행정구역    540 non-null    object \n",
      " 1   시점      540 non-null    int64  \n",
      " 2   출생아수    540 non-null    float64\n",
      " 3   사망자수    540 non-null    float64\n",
      " 4   혼인건수    540 non-null    float64\n",
      " 5   이혼건수    540 non-null    float64\n",
      "dtypes: float64(4), int64(1), object(1)\n",
      "memory usage: 25.4+ KB\n"
     ]
    }
   ],
   "source": [
    "df.info()"
   ]
  },
  {
   "cell_type": "code",
   "execution_count": 17,
   "metadata": {},
   "outputs": [],
   "source": [
    "df['자연증가수'] = df['출생아수'] - df['사망자수']"
   ]
  },
  {
   "cell_type": "code",
   "execution_count": 18,
   "metadata": {},
   "outputs": [],
   "source": [
    "dft = df[df['행정구역'] == \"전국\"]\n",
    "dfa = df[df['행정구역'] != \"전국\"]"
   ]
  },
  {
   "cell_type": "code",
   "execution_count": 21,
   "metadata": {},
   "outputs": [
    {
     "data": {
      "image/png": "[encoded data removed]",
      "text/plain": [
       "<Figure size 640x480 with 1 Axes>"
      ]
     },
     "metadata": {},
     "output_type": "display_data"
    }
   ],
   "source": [
    "sns.barplot(x='시점', y='자연증가수', hue='행정구역', data=dfa[dfa['행정구역'].isin(['서울특별시','부산광역시','경기도'])])\n",
    "plt.xticks(rotation=90)\n",
    "plt.show()"
   ]
  }
 ],
 "metadata": {
  "kernelspec": {
   "display_name": "base",
   "language": "python",
   "name": "python3"
  },
  "language_info": {
   "codemirror_mode": {
    "name": "ipython",
    "version": 3
   },
   "file_extension": ".py",
   "mimetype": "text/x-python",
   "name": "python",
   "nbconvert_exporter": "python",
   "pygments_lexer": "ipython3",
   "version": "3.9.13 (main, Aug 25 2022, 23:51:50) [MSC v.1916 64 bit (AMD64)]"
  },
  "orig_nbformat": 4,
  "vscode": {
   "interpreter": {
    "hash": "78c50cf4ce376aa9c45519758f3120c50328cb5ea5c49b5a2a8ebb3e00f0003b"
   }
  }
 },
 "nbformat": 4,
 "nbformat_minor": 2
}
